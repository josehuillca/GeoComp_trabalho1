{
 "cells": [
  {
   "cell_type": "code",
   "execution_count": 4,
   "metadata": {},
   "outputs": [],
   "source": [
    "%matplotlib inline\n",
    "import numpy as np\n",
    "import matplotlib.pyplot as plt"
   ]
  },
  {
   "cell_type": "code",
   "execution_count": 34,
   "metadata": {},
   "outputs": [],
   "source": [
    "import skgeom as sg\n",
    "from skgeom.draw import draw"
   ]
  },
  {
   "cell_type": "code",
   "execution_count": 176,
   "metadata": {},
   "outputs": [],
   "source": [
    "def toPoint2(p):\n",
    "    return sg.Point2(p[0], p[1])\n",
    "\n",
    "def toVector(p1, p2):\n",
    "    # Return vector witch homogeneos coordenate\n",
    "    v = np.array(p1) - np.array(p2)\n",
    "    return np.array([v[0], v[1], 1])\n",
    "\n",
    "def makePoints(n, mean=0, std=1):\n",
    "    #np.random.seed(21)\n",
    "    xSample = np.random.normal(mean, std, n)\n",
    "    ySample = np.random.normal(mean, std, n)\n",
    "    return list(zip(xSample, ySample))\n",
    "\n",
    "def list_splice(target, start, delete_count=None, *items):\n",
    "    \"\"\"Remove existing elements and/or add new elements to a list.\n",
    "\n",
    "    target        the target list (will be changed)\n",
    "    start         index of starting position\n",
    "    delete_count  number of items to remove (default: len(target) - start)\n",
    "    *items        items to insert at start index\n",
    "\n",
    "    Returns a new list of removed items (or an empty list)\n",
    "    \"\"\"\n",
    "    if delete_count == None:\n",
    "        delete_count = len(target) - start\n",
    "\n",
    "    # store removed range in a separate list and replace with *items\n",
    "    total = start + delete_count\n",
    "    removed = target[start:total]\n",
    "    target[start:total] = items\n",
    "\n",
    "    return removed\n",
    "\n",
    "def giftWrapping(pts_):\n",
    "    pts = pts_[:]\n",
    "    pts.sort(key=lambda x: x[0]) # ordenamos por el eje x\n",
    "\n",
    "    hull = []\n",
    "    index = 2\n",
    "    nextIndex = -1\n",
    "    \n",
    "    leftMost = pts[0]\n",
    "    currentVertex = leftMost\n",
    "    hull.append(currentVertex)\n",
    "    nextVertex = pts[1]\n",
    "    try:\n",
    "        while True:\n",
    "            #print(len(pts), index)\n",
    "            checkingPoint = pts[index]\n",
    "            u = toVector(nextVertex, currentVertex)\n",
    "            v = toVector(checkingPoint, currentVertex)\n",
    "            cross = np.cross(u, v)\n",
    "            if cross[2]>0:\n",
    "                nextVertex = checkingPoint\n",
    "                nextIndex = index\n",
    "            index += 1\n",
    "            if index == len(pts):\n",
    "                if nextVertex == leftMost:\n",
    "                    print('Termino..')\n",
    "                    return hull\n",
    "                else:\n",
    "                    hull.append(nextVertex)\n",
    "                    currentVertex = nextVertex\n",
    "                    index = 0\n",
    "                    # splice..\n",
    "                    _ = list_splice(pts, nextIndex, 1) #pts = pts[nextIndex:]\n",
    "                    nextVertex = leftMost\n",
    "    except Exception as e:\n",
    "        print('Exception:', e)\n",
    "        return hull\n",
    "    return hull"
   ]
  },
  {
   "cell_type": "code",
   "execution_count": 180,
   "metadata": {},
   "outputs": [
    {
     "name": "stdout",
     "output_type": "stream",
     "text": [
      "Termino..\n",
      "6\n"
     ]
    }
   ],
   "source": [
    "n = 50\n",
    "points = makePoints(n)\n",
    "res = giftWrapping(points)\n",
    "print(len(res))"
   ]
  },
  {
   "cell_type": "code",
   "execution_count": 181,
   "metadata": {},
   "outputs": [
    {
     "name": "stdout",
     "output_type": "stream",
     "text": [
      "[(-3.150669380410565, 0.8183156528279196), (-0.5461173410286654, 3.436042156252611), (1.5412549988262154, 1.1869789525961336), (2.177759580727675, 0.33370995749788296), (0.21494303296013414, -1.3855848549109089), (-1.488124761484556, -1.3760693103129442)]\n"
     ]
    }
   ],
   "source": [
    "print(res)"
   ]
  },
  {
   "cell_type": "markdown",
   "metadata": {},
   "source": [
    "## Plot using SKGEOM"
   ]
  },
  {
   "cell_type": "code",
   "execution_count": 185,
   "metadata": {},
   "outputs": [
    {
     "data": {
      "image/png": "[encoded data removed]",
      "text/plain": [
       "<Figure size 432x288 with 1 Axes>"
      ]
     },
     "metadata": {
      "needs_background": "light"
     },
     "output_type": "display_data"
    }
   ],
   "source": [
    "# plot todos los puntos que estaban previamente ordenados\n",
    "# y resaltamos de color rojo el\n",
    "points_sg = []\n",
    "for i in range(n):\n",
    "    x, y = points[i]\n",
    "    points_sg.append(sg.Point2(x, y))\n",
    "    \n",
    "#draw(toPoint2(leftMost), color='red') # Draw only the leftMost point\n",
    "\n",
    "#draw(sg.Segment2(toPoint2(currentVertex),toPoint2(nextVertex)))\n",
    "#draw(sg.Segment2(toPoint2(currentVertex),toPoint2(checkingPoint)), color='green')\n",
    "#draw(toPoint2(currentVertex), color='orange') # Draw only the currentVertex point\n",
    "\n",
    "#res = [(-1.7110537607276717, 0.231802959660187), (-0.6132002869132012, 1.5678821766222575), (-0.6132002869132012, 1.5678821766222575), (1.3736884997604164, 1.1785562058590144), (1.6109919764383442, -1.383956868577714), (1.6109919764383442, -1.383956868577714)]\n",
    "#hull_poly = sg.Polygon(res)\n",
    "#draw(hull_poly)\n",
    "for i in range(len(res)-1):\n",
    "    draw(sg.Segment2(toPoint2(res[i]),toPoint2(res[i+1])))\n",
    "draw(sg.Segment2(toPoint2(res[-1]),toPoint2(res[0])))\n",
    "    \n",
    "draw(points_sg, color='blue') # draw all points"
   ]
  },
  {
   "cell_type": "code",
   "execution_count": 174,
   "metadata": {},
   "outputs": [],
   "source": [
    "# https://gist.github.com/WetHat/d69ce0e94e337538e5b4c848501522aa"
   ]
  },
  {
   "cell_type": "code",
   "execution_count": 136,
   "metadata": {},
   "outputs": [
    {
     "name": "stdout",
     "output_type": "stream",
     "text": [
      "['a', 'b', 'd', 'e', 'f']\n"
     ]
    }
   ],
   "source": [
    "arr = ['a', 'b', 'c', 'd', 'e', 'f']\n",
    "removed = list_splice(arr, 2, 1)\n",
    "print(arr)"
   ]
  },
  {
   "cell_type": "code",
   "execution_count": 141,
   "metadata": {},
   "outputs": [
    {
     "name": "stdout",
     "output_type": "stream",
     "text": [
      "['a', 'e', 'f']\n"
     ]
    }
   ],
   "source": [
    "removed = list_splice(arr, -1, 1)\n",
    "print(arr)"
   ]
  },
  {
   "cell_type": "code",
   "execution_count": null,
   "metadata": {},
   "outputs": [],
   "source": []
  }
 ],
 "metadata": {
  "kernelspec": {
   "display_name": "Python 3",
   "language": "python",
   "name": "python3"
  },
  "language_info": {
   "codemirror_mode": {
    "name": "ipython",
    "version": 3
   },
   "file_extension": ".py",
   "mimetype": "text/x-python",
   "name": "python",
   "nbconvert_exporter": "python",
   "pygments_lexer": "ipython3",
   "version": "3.7.8"
  }
 },
 "nbformat": 4,
 "nbformat_minor": 4
}
