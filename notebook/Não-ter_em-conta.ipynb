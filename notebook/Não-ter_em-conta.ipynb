{
 "cells": [
  {
   "cell_type": "code",
   "execution_count": 1,
   "metadata": {},
   "outputs": [],
   "source": [
    "%matplotlib inline\n",
    "import numpy as np\n",
    "from scipy.spatial import distance\n",
    "import matplotlib.pyplot as plt"
   ]
  },
  {
   "cell_type": "code",
   "execution_count": 2,
   "metadata": {},
   "outputs": [],
   "source": [
    "import skgeom as sg\n",
    "from skgeom.draw import draw"
   ]
  },
  {
   "cell_type": "code",
   "execution_count": 33,
   "metadata": {},
   "outputs": [],
   "source": [
    "def toPoint2(p):\n",
    "    return sg.Point2(p[0], p[1])\n",
    "\n",
    "def toVector(p1, p2):\n",
    "    # Return vector witch homogeneos coordenate\n",
    "    v = np.array(p1) - np.array(p2)\n",
    "    return np.array([v[0], v[1], 1])\n",
    "\n",
    "def makePoints(n, mean=0, std=1):\n",
    "    np.random.seed(21)\n",
    "    xSample = np.random.normal(mean, std, n)\n",
    "    ySample = np.random.normal(mean, std, n)\n",
    "    return list(zip(xSample, ySample))\n",
    "\n",
    "def list_splice(target, start, delete_count=None, *items):\n",
    "    \"\"\"Remove existing elements and/or add new elements to a list.\n",
    "\n",
    "    target        the target list (will be changed)\n",
    "    start         index of starting position\n",
    "    delete_count  number of items to remove (default: len(target) - start)\n",
    "    *items        items to insert at start index\n",
    "\n",
    "    Returns a new list of removed items (or an empty list)\n",
    "    \"\"\"\n",
    "    if delete_count == None:\n",
    "        delete_count = len(target) - start\n",
    "\n",
    "    # store removed range in a separate list and replace with *items\n",
    "    total = start + delete_count\n",
    "    removed = target[start:total]\n",
    "    target[start:total] = items\n",
    "\n",
    "    return removed\n",
    "\n",
    "def giftWrapping(pts_):\n",
    "    pts = pts_[:]\n",
    "    pts.sort(key=lambda x: x[0]) # ordenamos por el eje x\n",
    "\n",
    "    hull = []\n",
    "    index = 2\n",
    "    nextIndex = -1\n",
    "    \n",
    "    leftMost = pts[0]\n",
    "    currentVertex = leftMost\n",
    "    hull.append(currentVertex)\n",
    "    nextVertex = pts[1]\n",
    "    try:\n",
    "        while True:\n",
    "            #print(len(pts), index)\n",
    "            checkingPoint = pts[index]\n",
    "            u = toVector(nextVertex, currentVertex)\n",
    "            v = toVector(checkingPoint, currentVertex)\n",
    "            cross = np.cross(u, v)\n",
    "            if cross[2]>0:\n",
    "                nextVertex = checkingPoint\n",
    "                nextIndex = index\n",
    "            index += 1\n",
    "            if index == len(pts):\n",
    "                if nextVertex == leftMost:\n",
    "                    print('Termino hull..')\n",
    "                    return hull\n",
    "                else:\n",
    "                    hull.append(nextVertex)\n",
    "                    currentVertex = nextVertex\n",
    "                    index = 0\n",
    "                    # splice..\n",
    "                    _ = list_splice(pts, nextIndex, 1) #pts = pts[nextIndex:]\n",
    "                    nextVertex = leftMost\n",
    "    except Exception as e:\n",
    "        print('Exception:', e)\n",
    "        return hull\n",
    "    return hull\n",
    "\n",
    "def getDistance(p1, p2, distance_metric='euclidean'):\n",
    "    dst = None\n",
    "    if distance_metric=='euclidean':\n",
    "        dst = distance.euclidean(p1, p2)\n",
    "    elif distance_metric=='mahalanobis':\n",
    "        x_p1, y_p1 = p1\n",
    "        x_p2, y_p2 = p2\n",
    "        # numpy.inv with determinat 0, we use numpy.pinv to leverages SVD to approximate initial matrix\n",
    "        V = np.cov(np.array([[x_p1, y_p1], [x_p2, y_p2]]).T)\n",
    "        IV = np.linalg.pinv(V)\n",
    "        dst = distance.mahalanobis([x_p1, y_p1], [x_p2, y_p2], IV)\n",
    "    else:\n",
    "        print(\"ERRO: Distance metric not found: \", distance_metric)\n",
    "    return dst\n",
    "\n",
    "def onion_peeling_outtlier_detection(S, k, distance_metric='euclidean'):\n",
    "    L = []\n",
    "    S_ = S[:] # make copy points\n",
    "    mean = np.mean(S, axis=0) # to take the mean of each col\n",
    "    while True:\n",
    "        # Run Convex-Hull algorithm\n",
    "        hull = giftWrapping(S_)\n",
    "        \n",
    "        # check the size of points\n",
    "        if len(S_)<k:\n",
    "            print('Size of points must be greater than outliers.')\n",
    "            return L, hull\n",
    "        \n",
    "        # Start removing points one at a time\n",
    "        print('Finding points...')\n",
    "        dst = []\n",
    "        # Calculate distance with requested distance metric\n",
    "        for pt in hull:\n",
    "            dst.append(getDistance(pt, mean, distance_metric))\n",
    "        # Find the point with largest distance to all the points in the data\n",
    "        idx_pt = np.argmax(dst)\n",
    "        idx_ = S_.index(hull[idx_pt])\n",
    "        # We remove the furthest point found in Hull\n",
    "        remove = list_splice(S_, idx_, 1)\n",
    "        # Store the point and the corresponding index in the memory.\n",
    "        L.append(remove[0])\n",
    "        if len(L)==k:\n",
    "            return L, giftWrapping(S_)\n",
    "        # Remove the current hull.\n",
    "        hull = None\n",
    "        \n",
    "def sort_points(point_array):\n",
    "    \"\"\"Return point_array sorted by leftmost first, then by slope, ascending.\"\"\"\n",
    "\n",
    "    def slope(y):\n",
    "        \"\"\"returns the slope of the 2 points.\"\"\"\n",
    "        x = point_array[0]\n",
    "        return (x[1] - y[1]) / (x[0] - y[0])\n",
    "\n",
    "    point_array.sort()  # put leftmost first\n",
    "    point_array = point_array[:1] + sorted(point_array[1:], key=slope)\n",
    "    return point_array\n",
    "\n",
    "\n",
    "def graham(pts):\n",
    "    \"\"\"Takes an array of points to be scanned.\n",
    "    Returns an array of points that make up the convex hull surrounding the points passed in in point_array.\n",
    "    \"\"\"\n",
    "    def cross_product_orientation(a, b, c):\n",
    "        \"\"\"Returns the orientation of the set of points.\n",
    "        >0 if x,y,z are clockwise, <0 if counterclockwise, 0 if co-linear.\n",
    "        \"\"\"\n",
    "        return (b[1] - a[1]) * (c[0] - a[0]) - (b[0] - a[0]) * (c[1] - a[1])\n",
    "    pts_cp = pts[:]\n",
    "    # convex_hull is a stack of points beginning with the leftmost point.\n",
    "    convex_hull = []\n",
    "    sorted_points = sort_points(pts_cp)\n",
    "    for p in sorted_points:\n",
    "        # if we turn clockwise to reach this point, pop the last point from the stack, else, append this point to it.\n",
    "        while len(convex_hull) > 1 and cross_product_orientation(convex_hull[-2], convex_hull[-1], p) >= 0:\n",
    "            convex_hull.pop()\n",
    "        convex_hull.append(p)\n",
    "    # the stack is now a representation of the convex hull, return it.\n",
    "    return convex_hull"
   ]
  },
  {
   "cell_type": "code",
   "execution_count": 35,
   "metadata": {},
   "outputs": [],
   "source": [
    "n = 100\n",
    "k = 10\n",
    "points = makePoints(n)\n",
    "#res = giftWrapping(points)\n",
    "#print(len(res))\n",
    "#outliers, hull_res = onion_peeling_outtlier_detection(points, k, distance_metric='mahalanobis')\n",
    "#print(outliers)\n",
    "hull_res = graham(points)"
   ]
  },
  {
   "cell_type": "markdown",
   "metadata": {},
   "source": [
    "## Plot using SKGEOM"
   ]
  },
  {
   "cell_type": "code",
   "execution_count": 36,
   "metadata": {},
   "outputs": [
    {
     "data": {
      "text/plain": [
       "\"points_outliers = []\\nfor i in range(len(outliers)):\\n    x, y = outliers[i]\\n    points_outliers.append(sg.Point2(x, y))\\ndraw(points_outliers, color='red')\""
      ]
     },
     "execution_count": 36,
     "metadata": {},
     "output_type": "execute_result"
    },
    {
     "data": {
      "image/png": "[encoded data removed]",
      "text/plain": [
       "<Figure size 432x288 with 1 Axes>"
      ]
     },
     "metadata": {
      "needs_background": "light"
     },
     "output_type": "display_data"
    }
   ],
   "source": [
    "# plot todos los puntos que estaban previamente ordenados\n",
    "# y resaltamos de color rojo el\n",
    "points_sg = []\n",
    "for i in range(n):\n",
    "    x, y = points[i]\n",
    "    points_sg.append(sg.Point2(x, y))\n",
    "    \n",
    "#draw(toPoint2(leftMost), color='red') # Draw only the leftMost point\n",
    "\n",
    "#draw(sg.Segment2(toPoint2(currentVertex),toPoint2(nextVertex)))\n",
    "#draw(sg.Segment2(toPoint2(currentVertex),toPoint2(checkingPoint)), color='green')\n",
    "#draw(toPoint2(currentVertex), color='orange') # Draw only the currentVertex point\n",
    "\n",
    "#res = [(-1.7110537607276717, 0.231802959660187), (-0.6132002869132012, 1.5678821766222575), (-0.6132002869132012, 1.5678821766222575), (1.3736884997604164, 1.1785562058590144), (1.6109919764383442, -1.383956868577714), (1.6109919764383442, -1.383956868577714)]\n",
    "#hull_poly = sg.Polygon(res)\n",
    "#draw(hull_poly)\n",
    "for i in range(len(hull_res)-1):\n",
    "    draw(sg.Segment2(toPoint2(hull_res[i]),toPoint2(hull_res[i+1])))\n",
    "draw(sg.Segment2(toPoint2(hull_res[-1]),toPoint2(hull_res[0])))\n",
    "    \n",
    "draw(points_sg, color='blue') # draw all points\n",
    "\n",
    "'''points_outliers = []\n",
    "for i in range(len(outliers)):\n",
    "    x, y = outliers[i]\n",
    "    points_outliers.append(sg.Point2(x, y))\n",
    "draw(points_outliers, color='red')'''"
   ]
  },
  {
   "cell_type": "code",
   "execution_count": 6,
   "metadata": {},
   "outputs": [
    {
     "data": {
      "text/plain": [
       "('obj', 'kwargs', 'el')"
      ]
     },
     "execution_count": 6,
     "metadata": {},
     "output_type": "execute_result"
    }
   ],
   "source": [
    "draw.__code__.co_varnames"
   ]
  },
  {
   "cell_type": "code",
   "execution_count": 7,
   "metadata": {},
   "outputs": [],
   "source": [
    "# https://gist.github.com/WetHat/d69ce0e94e337538e5b4c848501522aa"
   ]
  },
  {
   "cell_type": "markdown",
   "metadata": {},
   "source": [
    "# Usando Base de Datos Wine"
   ]
  },
  {
   "cell_type": "code",
   "execution_count": 8,
   "metadata": {},
   "outputs": [],
   "source": [
    "import os\n",
    "import pandas as pd\n",
    "from IPython.display import display, HTML"
   ]
  },
  {
   "cell_type": "code",
   "execution_count": 9,
   "metadata": {},
   "outputs": [],
   "source": [
    "wine_data = '../dataset/wine/wine.data'\n",
    "if os.path.exists(wine_data) is False: print('File WINE.DATA not exist.')"
   ]
  },
  {
   "cell_type": "code",
   "execution_count": 10,
   "metadata": {},
   "outputs": [
    {
     "data": {
      "text/html": [
       "<div>\n",
       "<style scoped>\n",
       "    .dataframe tbody tr th:only-of-type {\n",
       "        vertical-align: middle;\n",
       "    }\n",
       "\n",
       "    .dataframe tbody tr th {\n",
       "        vertical-align: top;\n",
       "    }\n",
       "\n",
       "    .dataframe thead th {\n",
       "        text-align: right;\n",
       "    }\n",
       "</style>\n",
       "<table border=\"1\" class=\"dataframe\">\n",
       "  <thead>\n",
       "    <tr style=\"text-align: right;\">\n",
       "      <th></th>\n",
       "      <th>label</th>\n",
       "      <th>Alcohol</th>\n",
       "      <th>Malic acid</th>\n",
       "    </tr>\n",
       "  </thead>\n",
       "  <tbody>\n",
       "    <tr>\n",
       "      <th>0</th>\n",
       "      <td>1</td>\n",
       "      <td>14.23</td>\n",
       "      <td>1.71</td>\n",
       "    </tr>\n",
       "    <tr>\n",
       "      <th>1</th>\n",
       "      <td>1</td>\n",
       "      <td>13.20</td>\n",
       "      <td>1.78</td>\n",
       "    </tr>\n",
       "    <tr>\n",
       "      <th>2</th>\n",
       "      <td>1</td>\n",
       "      <td>13.16</td>\n",
       "      <td>2.36</td>\n",
       "    </tr>\n",
       "    <tr>\n",
       "      <th>3</th>\n",
       "      <td>1</td>\n",
       "      <td>14.37</td>\n",
       "      <td>1.95</td>\n",
       "    </tr>\n",
       "    <tr>\n",
       "      <th>4</th>\n",
       "      <td>1</td>\n",
       "      <td>13.24</td>\n",
       "      <td>2.59</td>\n",
       "    </tr>\n",
       "  </tbody>\n",
       "</table>\n",
       "</div>"
      ],
      "text/plain": [
       "   label  Alcohol  Malic acid\n",
       "0      1    14.23        1.71\n",
       "1      1    13.20        1.78\n",
       "2      1    13.16        2.36\n",
       "3      1    14.37        1.95\n",
       "4      1    13.24        2.59"
      ]
     },
     "metadata": {},
     "output_type": "display_data"
    }
   ],
   "source": [
    "names = ['label','Alcohol', 'Malic acid']\n",
    "df = pd.read_csv(wine_data, usecols=[0,1,2], names=names, header=None)\n",
    "display(df.head(5))"
   ]
  },
  {
   "cell_type": "code",
   "execution_count": 11,
   "metadata": {},
   "outputs": [],
   "source": [
    "wine_points = list(zip(df[names[1]].to_list(), df[names[2]].to_list()))\n",
    "labels = df[names[0]].to_list()"
   ]
  },
  {
   "cell_type": "code",
   "execution_count": 12,
   "metadata": {},
   "outputs": [
    {
     "data": {
      "image/png": "[encoded data removed]",
      "text/plain": [
       "<Figure size 432x288 with 1 Axes>"
      ]
     },
     "metadata": {
      "needs_background": "light"
     },
     "output_type": "display_data"
    }
   ],
   "source": [
    "points_sg = []\n",
    "for i in range(len(wine_points)):\n",
    "    x, y = wine_points[i]\n",
    "    #points_sg.append(sg.Point2(x, y))\n",
    "    draw(sg.Point2(x, y), color='gray') # draw all points"
   ]
  },
  {
   "cell_type": "code",
   "execution_count": 13,
   "metadata": {},
   "outputs": [],
   "source": [
    "def draw_clusters(labels, points_clus):\n",
    "    # Sabiendo que solo hay tres clases de vinos\n",
    "    cor = ['orange', 'skyblue', 'gray']\n",
    "    for idx, label in enumerate(labels):\n",
    "        x, y = points_clus[idx]\n",
    "        draw(sg.Point2(x, y), color=cor[label-1])"
   ]
  },
  {
   "cell_type": "code",
   "execution_count": 14,
   "metadata": {},
   "outputs": [
    {
     "data": {
      "image/png": "[encoded data removed]",
      "text/plain": [
       "<Figure size 432x288 with 1 Axes>"
      ]
     },
     "metadata": {
      "needs_background": "light"
     },
     "output_type": "display_data"
    }
   ],
   "source": [
    "draw_clusters(labels, wine_points)"
   ]
  },
  {
   "cell_type": "code",
   "execution_count": 15,
   "metadata": {},
   "outputs": [
    {
     "name": "stdout",
     "output_type": "stream",
     "text": [
      "Termino hull..\n",
      "Finding points...\n",
      "Termino hull..\n",
      "Finding points...\n",
      "Termino hull..\n",
      "Finding points...\n",
      "Termino hull..\n",
      "Finding points...\n",
      "Termino hull..\n",
      "Finding points...\n",
      "Termino hull..\n",
      "Finding points...\n",
      "Termino hull..\n",
      "Finding points...\n",
      "Termino hull..\n",
      "Finding points...\n",
      "Termino hull..\n",
      "Finding points...\n",
      "Termino hull..\n",
      "Finding points...\n",
      "Termino hull..\n"
     ]
    }
   ],
   "source": [
    "k = 10\n",
    "outliers, hull_res = onion_peeling_outtlier_detection(wine_points, k, distance_metric='euclidean')"
   ]
  },
  {
   "cell_type": "code",
   "execution_count": 16,
   "metadata": {},
   "outputs": [
    {
     "data": {
      "image/png": "[encoded data removed]",
      "text/plain": [
       "<Figure size 432x288 with 1 Axes>"
      ]
     },
     "metadata": {
      "needs_background": "light"
     },
     "output_type": "display_data"
    }
   ],
   "source": [
    "for i in range(len(hull_res)-1):\n",
    "    draw(sg.Segment2(toPoint2(hull_res[i]),toPoint2(hull_res[i+1])))\n",
    "draw(sg.Segment2(toPoint2(hull_res[-1]),toPoint2(hull_res[0])))\n",
    "draw_clusters(labels, wine_points)"
   ]
  },
  {
   "cell_type": "markdown",
   "metadata": {},
   "source": [
    "# Comparacion con otros metodos"
   ]
  },
  {
   "cell_type": "code",
   "execution_count": 17,
   "metadata": {},
   "outputs": [],
   "source": [
    "from sklearn.covariance import MinCovDet"
   ]
  },
  {
   "cell_type": "code",
   "execution_count": 18,
   "metadata": {},
   "outputs": [],
   "source": [
    "n_samples = 125\n",
    "n_outliers = 25\n",
    "n_features = 2\n",
    "\n",
    "# generate data\n",
    "gen_cov = np.eye(n_features)\n",
    "gen_cov[0, 0] = 2.\n",
    "X = np.dot(np.random.randn(n_samples, n_features), gen_cov)\n",
    "# add some outliers\n",
    "outliers_cov = np.eye(n_features)\n",
    "outliers_cov[np.arange(1, n_features), np.arange(1, n_features)] = 7.\n",
    "X[-n_outliers:] = np.dot(np.random.randn(n_outliers, n_features), outliers_cov)"
   ]
  },
  {
   "cell_type": "code",
   "execution_count": 19,
   "metadata": {},
   "outputs": [
    {
     "data": {
      "image/png": "[encoded data removed]",
      "text/plain": [
       "<Figure size 432x288 with 1 Axes>"
      ]
     },
     "metadata": {
      "needs_background": "light"
     },
     "output_type": "display_data"
    }
   ],
   "source": [
    "points_sg = []\n",
    "for i in range(len(X)):\n",
    "    x, y = X[i]\n",
    "    points_sg.append(sg.Point2(x, y))\n",
    "draw(points_sg, color='gray') # draw all points"
   ]
  },
  {
   "cell_type": "code",
   "execution_count": 20,
   "metadata": {},
   "outputs": [],
   "source": [
    "# https://scikit-learn.org/stable/auto_examples/applications/plot_outlier_detection_wine.html#sphx-glr-auto-examples-applications-plot-outlier-detection-wine-py\n",
    "# https://scikit-learn.org/stable/modules/generated/sklearn.covariance.MinCovDet.html"
   ]
  },
  {
   "cell_type": "markdown",
   "metadata": {},
   "source": [
    "## Minimum Covariance Determinat (MCD)"
   ]
  },
  {
   "cell_type": "code",
   "execution_count": 21,
   "metadata": {},
   "outputs": [],
   "source": [
    "# fit a Minimum Covariance Determinant (MCD) robust estimator to data\n",
    "robust_cov = MinCovDet().fit(X)"
   ]
  },
  {
   "cell_type": "code",
   "execution_count": 22,
   "metadata": {},
   "outputs": [
    {
     "data": {
      "image/png": "[encoded data removed]",
      "text/plain": [
       "<Figure size 432x288 with 1 Axes>"
      ]
     },
     "metadata": {
      "needs_background": "light"
     },
     "output_type": "display_data"
    }
   ],
   "source": [
    "# #############################################################################\n",
    "# Display results\n",
    "fig = plt.figure()\n",
    "plt.subplots_adjust(hspace=-.1, wspace=.4, top=.95, bottom=.05)\n",
    "\n",
    "# Show data set\n",
    "subfig1 = plt.subplot(3, 1, 1)\n",
    "inlier_plot = subfig1.scatter(X[:, 0], X[:, 1],\n",
    "                              color='black', label='inliers')\n",
    "outlier_plot = subfig1.scatter(X[:, 0][-n_outliers:], X[:, 1][-n_outliers:],\n",
    "                               color='red', label='outliers')\n",
    "subfig1.set_xlim(subfig1.get_xlim()[0], 11.)\n",
    "subfig1.set_title(\"Mahalanobis distances of a contaminated data set:\")\n",
    "\n",
    "# Show contours of the distance functions\n",
    "xx, yy = np.meshgrid(np.linspace(plt.xlim()[0], plt.xlim()[1], 100),\n",
    "                     np.linspace(plt.ylim()[0], plt.ylim()[1], 100))\n",
    "zz = np.c_[xx.ravel(), yy.ravel()]\n",
    "\n",
    "mahal_robust_cov = robust_cov.mahalanobis(zz)\n",
    "mahal_robust_cov = mahal_robust_cov.reshape(xx.shape)\n",
    "robust_contour = subfig1.contour(xx, yy, np.sqrt(mahal_robust_cov),\n",
    "                                 cmap=plt.cm.YlOrBr_r, linestyles='dotted')"
   ]
  },
  {
   "cell_type": "markdown",
   "metadata": {},
   "source": [
    "## OneClassSVM"
   ]
  },
  {
   "cell_type": "code",
   "execution_count": 23,
   "metadata": {},
   "outputs": [],
   "source": [
    "from sklearn.svm import OneClassSVM"
   ]
  },
  {
   "cell_type": "code",
   "execution_count": 24,
   "metadata": {},
   "outputs": [
    {
     "data": {
      "image/png": "[encoded data removed]",
      "text/plain": [
       "<Figure size 432x288 with 1 Axes>"
      ]
     },
     "metadata": {
      "needs_background": "light"
     },
     "output_type": "display_data"
    }
   ],
   "source": [
    "ocsvm = OneClassSVM(nu=0.25, gamma=0.35)\n",
    "\n",
    "plt.scatter(X[:, 0], X[:, 1],color='black', label='inliers')\n",
    "plt.scatter(X[:, 0][-n_outliers:], X[:, 1][-n_outliers:],color='red', label='outliers')\n",
    "\n",
    "ocsvm.fit(X)\n",
    "desicion_ocsvm = ocsvm.decision_function(zz)\n",
    "desicion_ocsvm = desicion_ocsvm.reshape(xx.shape)\n",
    "ocsvm_contour = plt.contour(xx, yy, desicion_ocsvm, levels=[0], linewidths=2, colors='b')"
   ]
  },
  {
   "cell_type": "markdown",
   "metadata": {},
   "source": [
    "## Testes com distancias"
   ]
  },
  {
   "cell_type": "code",
   "execution_count": 25,
   "metadata": {},
   "outputs": [
    {
     "data": {
      "text/html": [
       "<div>\n",
       "<style scoped>\n",
       "    .dataframe tbody tr th:only-of-type {\n",
       "        vertical-align: middle;\n",
       "    }\n",
       "\n",
       "    .dataframe tbody tr th {\n",
       "        vertical-align: top;\n",
       "    }\n",
       "\n",
       "    .dataframe thead th {\n",
       "        text-align: right;\n",
       "    }\n",
       "</style>\n",
       "<table border=\"1\" class=\"dataframe\">\n",
       "  <thead>\n",
       "    <tr style=\"text-align: right;\">\n",
       "      <th></th>\n",
       "      <th>carat</th>\n",
       "      <th>depth</th>\n",
       "      <th>price</th>\n",
       "    </tr>\n",
       "  </thead>\n",
       "  <tbody>\n",
       "    <tr>\n",
       "      <th>0</th>\n",
       "      <td>0.23</td>\n",
       "      <td>61.5</td>\n",
       "      <td>326</td>\n",
       "    </tr>\n",
       "    <tr>\n",
       "      <th>1</th>\n",
       "      <td>0.21</td>\n",
       "      <td>59.8</td>\n",
       "      <td>326</td>\n",
       "    </tr>\n",
       "    <tr>\n",
       "      <th>2</th>\n",
       "      <td>0.23</td>\n",
       "      <td>56.9</td>\n",
       "      <td>327</td>\n",
       "    </tr>\n",
       "    <tr>\n",
       "      <th>3</th>\n",
       "      <td>0.29</td>\n",
       "      <td>62.4</td>\n",
       "      <td>334</td>\n",
       "    </tr>\n",
       "    <tr>\n",
       "      <th>4</th>\n",
       "      <td>0.31</td>\n",
       "      <td>63.3</td>\n",
       "      <td>335</td>\n",
       "    </tr>\n",
       "  </tbody>\n",
       "</table>\n",
       "</div>"
      ],
      "text/plain": [
       "   carat  depth  price\n",
       "0   0.23   61.5    326\n",
       "1   0.21   59.8    326\n",
       "2   0.23   56.9    327\n",
       "3   0.29   62.4    334\n",
       "4   0.31   63.3    335"
      ]
     },
     "execution_count": 25,
     "metadata": {},
     "output_type": "execute_result"
    }
   ],
   "source": [
    "import pandas as pd\n",
    "import scipy as sp\n",
    "import numpy as np\n",
    "\n",
    "filepath = 'https://raw.githubusercontent.com/selva86/datasets/master/diamonds.csv'\n",
    "df = pd.read_csv(filepath).iloc[:, [0,4,6]]\n",
    "df.head()"
   ]
  },
  {
   "cell_type": "code",
   "execution_count": 26,
   "metadata": {},
   "outputs": [
    {
     "name": "stdout",
     "output_type": "stream",
     "text": [
      "     carat     depth\n",
      "0 -0.56794 -0.249405 carat     0.797940\n",
      "depth    61.749405\n",
      "dtype: float64\n"
     ]
    },
    {
     "data": {
      "text/html": [
       "<div>\n",
       "<style scoped>\n",
       "    .dataframe tbody tr th:only-of-type {\n",
       "        vertical-align: middle;\n",
       "    }\n",
       "\n",
       "    .dataframe tbody tr th {\n",
       "        vertical-align: top;\n",
       "    }\n",
       "\n",
       "    .dataframe thead th {\n",
       "        text-align: right;\n",
       "    }\n",
       "</style>\n",
       "<table border=\"1\" class=\"dataframe\">\n",
       "  <thead>\n",
       "    <tr style=\"text-align: right;\">\n",
       "      <th></th>\n",
       "      <th>carat</th>\n",
       "      <th>depth</th>\n",
       "      <th>mahala</th>\n",
       "    </tr>\n",
       "  </thead>\n",
       "  <tbody>\n",
       "    <tr>\n",
       "      <th>0</th>\n",
       "      <td>0.23</td>\n",
       "      <td>61.5</td>\n",
       "      <td>1.455272</td>\n",
       "    </tr>\n",
       "  </tbody>\n",
       "</table>\n",
       "</div>"
      ],
      "text/plain": [
       "   carat  depth    mahala\n",
       "0   0.23   61.5  1.455272"
      ]
     },
     "execution_count": 26,
     "metadata": {},
     "output_type": "execute_result"
    }
   ],
   "source": [
    "def mahalanobis(x=None, data=None, cov=None):\n",
    "    \"\"\"Compute the Mahalanobis Distance between each row of x and the data  \n",
    "    x    : vector or matrix of data with, say, p columns.\n",
    "    data : ndarray of the distribution from which Mahalanobis distance of each observation of x is to be computed.\n",
    "    cov  : covariance matrix (p x p) of the distribution. If None, will be computed from data.\n",
    "    \"\"\"\n",
    "    x_minus_mu = x - np.mean(data, axis=0)\n",
    "    print(x_minus_mu, np.mean(data, axis=0))\n",
    "    if not cov:\n",
    "        cov = np.cov(data.T)\n",
    "    inv_covmat = sp.linalg.inv(cov)\n",
    "    left_term = np.dot(x_minus_mu, inv_covmat)\n",
    "    mahal = np.dot(left_term, x_minus_mu.T)\n",
    "    return mahal.diagonal()\n",
    "\n",
    "df_x = df[['carat', 'depth']].head(1)\n",
    "df_x['mahala'] = mahalanobis(x=df_x, data=df[['carat', 'depth']])\n",
    "df_x.head()"
   ]
  },
  {
   "cell_type": "code",
   "execution_count": 27,
   "metadata": {},
   "outputs": [
    {
     "data": {
      "text/plain": [
       "array([[ 0.23, 61.5 ]])"
      ]
     },
     "execution_count": 27,
     "metadata": {},
     "output_type": "execute_result"
    }
   ],
   "source": [
    "df[['carat', 'depth']].head(1).to_numpy()"
   ]
  },
  {
   "cell_type": "code",
   "execution_count": 28,
   "metadata": {},
   "outputs": [],
   "source": [
    "#mahalanobis(x=np.array([[ 0.23, 61.5 ]]), data=df[['carat', 'depth']])"
   ]
  },
  {
   "cell_type": "code",
   "execution_count": 29,
   "metadata": {},
   "outputs": [],
   "source": [
    "x = [(0.23, 61.5)]\n",
    "g = df[['carat', 'depth']].to_numpy()"
   ]
  },
  {
   "cell_type": "code",
   "execution_count": 30,
   "metadata": {},
   "outputs": [
    {
     "data": {
      "text/plain": [
       "array([[-0.56793975, -0.24940489]])"
      ]
     },
     "execution_count": 30,
     "metadata": {},
     "output_type": "execute_result"
    }
   ],
   "source": [
    "x - np.mean(g, axis=0)"
   ]
  },
  {
   "cell_type": "code",
   "execution_count": 31,
   "metadata": {},
   "outputs": [
    {
     "name": "stdout",
     "output_type": "stream",
     "text": [
      "[[-0.56793975 -0.24940489]] [ 0.79793975 61.74940489]\n"
     ]
    }
   ],
   "source": [
    "a = mahalanobis(x=x, data=g)"
   ]
  },
  {
   "cell_type": "code",
   "execution_count": 32,
   "metadata": {},
   "outputs": [
    {
     "data": {
      "text/plain": [
       "1.4552716047738132"
      ]
     },
     "execution_count": 32,
     "metadata": {},
     "output_type": "execute_result"
    }
   ],
   "source": [
    "a[0]"
   ]
  },
  {
   "cell_type": "code",
   "execution_count": null,
   "metadata": {},
   "outputs": [],
   "source": []
  }
 ],
 "metadata": {
  "kernelspec": {
   "display_name": "Python 3",
   "language": "python",
   "name": "python3"
  },
  "language_info": {
   "codemirror_mode": {
    "name": "ipython",
    "version": 3
   },
   "file_extension": ".py",
   "mimetype": "text/x-python",
   "name": "python",
   "nbconvert_exporter": "python",
   "pygments_lexer": "ipython3",
   "version": "3.7.8"
  }
 },
 "nbformat": 4,
 "nbformat_minor": 4
}
