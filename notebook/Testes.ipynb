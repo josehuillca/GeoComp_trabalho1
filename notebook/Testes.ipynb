{
 "cells": [
  {
   "cell_type": "code",
   "execution_count": 4,
   "metadata": {},
   "outputs": [],
   "source": [
    "%matplotlib inline\n",
    "import numpy as np\n",
    "import matplotlib.pyplot as plt"
   ]
  },
  {
   "cell_type": "code",
   "execution_count": 34,
   "metadata": {},
   "outputs": [],
   "source": [
    "import skgeom as sg\n",
    "from skgeom.draw import draw"
   ]
  },
  {
   "cell_type": "code",
   "execution_count": 46,
   "metadata": {},
   "outputs": [],
   "source": [
    "def toPoint2(p):\n",
    "    return sg.Point2(p[0], p[1])\n",
    "\n",
    "def toVector(p1, p2):\n",
    "    # Return vector witch homogeneos coordenate\n",
    "    v = np.array(p1) - np.array(p2)\n",
    "    return np.array([v[0], v[1], 1])"
   ]
  },
  {
   "cell_type": "code",
   "execution_count": 32,
   "metadata": {},
   "outputs": [
    {
     "data": {
      "text/plain": [
       "<matplotlib.collections.PathCollection at 0x7fbc9731ed10>"
      ]
     },
     "execution_count": 32,
     "metadata": {},
     "output_type": "execute_result"
    },
    {
     "data": {
      "image/png": "[encoded data removed]",
      "text/plain": [
       "<Figure size 432x288 with 1 Axes>"
      ]
     },
     "metadata": {
      "needs_background": "light"
     },
     "output_type": "display_data"
    }
   ],
   "source": [
    "mean = 0\n",
    "std = 1\n",
    "n = 100\n",
    "\n",
    "np.random.seed(21)\n",
    "xSample = np.random.normal(mean, std, n)\n",
    "ySample = np.random.normal(mean, std, n)\n",
    "\n",
    "plt.figure()\n",
    "plt.scatter(xSample, ySample)"
   ]
  },
  {
   "cell_type": "code",
   "execution_count": 51,
   "metadata": {},
   "outputs": [],
   "source": [
    "points = list(zip(xSample, ySample))\n",
    "points.sort(key=lambda x: x[0]) # ordenamos por el eje x\n",
    "\n",
    "hull = []\n",
    "leftMost = points[0]\n",
    "currentVertex = leftMost\n",
    "hull.append(currentVertex)\n",
    "nextVertex = points[1]\n",
    "index = 2\n",
    "nextIndex = -1\n"
   ]
  },
  {
   "cell_type": "code",
   "execution_count": 52,
   "metadata": {},
   "outputs": [],
   "source": [
    "checkingPoint = points[index]\n",
    "u = toVector(nextVertex, currentVertex)\n",
    "v = toVector(checkingPoint, currentVertex)\n",
    "cross = np.cross(u, v)\n",
    "if cross[2]<0:\n",
    "    nextVertex = checkingPoint\n",
    "    nextIndex = index\n",
    "index += 1\n",
    "if index == len(points):\n",
    "    hull.append(nextVertex)\n",
    "    currentVertex = nextVertex\n",
    "    index = 0\n",
    "    # splice..\n",
    "    points = points[nextIndex:]\n",
    "    nextVertex = leftMost"
   ]
  },
  {
   "cell_type": "markdown",
   "metadata": {},
   "source": [
    "## Plot using SKGEOM"
   ]
  },
  {
   "cell_type": "code",
   "execution_count": 53,
   "metadata": {},
   "outputs": [
    {
     "data": {
      "image/png": "[encoded data removed]",
      "text/plain": [
       "<Figure size 432x288 with 1 Axes>"
      ]
     },
     "metadata": {
      "needs_background": "light"
     },
     "output_type": "display_data"
    }
   ],
   "source": [
    "# plot todos los puntos que estaban previamente ordenados\n",
    "# y resaltamos de color rojo el\n",
    "points_sg = []\n",
    "for i in range(n):\n",
    "    x, y = points[i]\n",
    "    points_sg.append(sg.Point2(x, y))\n",
    "draw(points_sg, color='blue') # draw all points\n",
    "draw(toPoint2(leftMost), color='red') # Draw only the leftMost point\n",
    "\n",
    "draw(sg.Segment2(toPoint2(currentVertex),toPoint2(nextVertex)))\n",
    "draw(sg.Segment2(toPoint2(currentVertex),toPoint2(checkingPoint)), color='green')\n",
    "draw(toPoint2(currentVertex), color='orange') # Draw only the currentVertex point"
   ]
  },
  {
   "cell_type": "code",
   "execution_count": 22,
   "metadata": {},
   "outputs": [],
   "source": [
    "# https://gist.github.com/WetHat/d69ce0e94e337538e5b4c848501522aa"
   ]
  },
  {
   "cell_type": "code",
   "execution_count": null,
   "metadata": {},
   "outputs": [],
   "source": []
  }
 ],
 "metadata": {
  "kernelspec": {
   "display_name": "Python 3",
   "language": "python",
   "name": "python3"
  },
  "language_info": {
   "codemirror_mode": {
    "name": "ipython",
    "version": 3
   },
   "file_extension": ".py",
   "mimetype": "text/x-python",
   "name": "python",
   "nbconvert_exporter": "python",
   "pygments_lexer": "ipython3",
   "version": "3.7.8"
  }
 },
 "nbformat": 4,
 "nbformat_minor": 4
}
