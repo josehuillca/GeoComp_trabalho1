{
 "cells": [
  {
   "cell_type": "code",
   "execution_count": 3,
   "metadata": {},
   "outputs": [],
   "source": [
    "%matplotlib inline\n",
    "import numpy as np\n",
    "from scipy.spatial import distance\n",
    "import matplotlib.pyplot as plt"
   ]
  },
  {
   "cell_type": "code",
   "execution_count": 38,
   "metadata": {},
   "outputs": [],
   "source": [
    "import skgeom as sg\n",
    "from skgeom.draw import draw"
   ]
  },
  {
   "cell_type": "code",
   "execution_count": 54,
   "metadata": {},
   "outputs": [],
   "source": [
    "def toPoint2(p):\n",
    "    return sg.Point2(p[0], p[1])\n",
    "\n",
    "def toVector(p1, p2):\n",
    "    # Return vector witch homogeneos coordenate\n",
    "    v = np.array(p1) - np.array(p2)\n",
    "    return np.array([v[0], v[1], 1])\n",
    "\n",
    "def makePoints(n, mean=0, std=1):\n",
    "    np.random.seed(21)\n",
    "    xSample = np.random.normal(mean, std, n)\n",
    "    ySample = np.random.normal(mean, std, n)\n",
    "    return list(zip(xSample, ySample))\n",
    "\n",
    "def list_splice(target, start, delete_count=None, *items):\n",
    "    \"\"\"Remove existing elements and/or add new elements to a list.\n",
    "\n",
    "    target        the target list (will be changed)\n",
    "    start         index of starting position\n",
    "    delete_count  number of items to remove (default: len(target) - start)\n",
    "    *items        items to insert at start index\n",
    "\n",
    "    Returns a new list of removed items (or an empty list)\n",
    "    \"\"\"\n",
    "    if delete_count == None:\n",
    "        delete_count = len(target) - start\n",
    "\n",
    "    # store removed range in a separate list and replace with *items\n",
    "    total = start + delete_count\n",
    "    removed = target[start:total]\n",
    "    target[start:total] = items\n",
    "\n",
    "    return removed\n",
    "\n",
    "def giftWrapping(pts_):\n",
    "    pts = pts_[:]\n",
    "    pts.sort(key=lambda x: x[0]) # ordenamos por el eje x\n",
    "\n",
    "    hull = []\n",
    "    index = 2\n",
    "    nextIndex = -1\n",
    "    \n",
    "    leftMost = pts[0]\n",
    "    currentVertex = leftMost\n",
    "    hull.append(currentVertex)\n",
    "    nextVertex = pts[1]\n",
    "    try:\n",
    "        while True:\n",
    "            #print(len(pts), index)\n",
    "            checkingPoint = pts[index]\n",
    "            u = toVector(nextVertex, currentVertex)\n",
    "            v = toVector(checkingPoint, currentVertex)\n",
    "            cross = np.cross(u, v)\n",
    "            if cross[2]>0:\n",
    "                nextVertex = checkingPoint\n",
    "                nextIndex = index\n",
    "            index += 1\n",
    "            if index == len(pts):\n",
    "                if nextVertex == leftMost:\n",
    "                    print('Termino hull..')\n",
    "                    return hull\n",
    "                else:\n",
    "                    hull.append(nextVertex)\n",
    "                    currentVertex = nextVertex\n",
    "                    index = 0\n",
    "                    # splice..\n",
    "                    _ = list_splice(pts, nextIndex, 1) #pts = pts[nextIndex:]\n",
    "                    nextVertex = leftMost\n",
    "    except Exception as e:\n",
    "        print('Exception:', e)\n",
    "        return hull\n",
    "    return hull\n",
    "\n",
    "def getDistance(p1, p2, distance_metric='euclidean'):\n",
    "    dst = None\n",
    "    if distance_metric=='euclidean':\n",
    "        dst = distance.euclidean(p1, p2)\n",
    "    elif distance_metric=='mahalanobis':\n",
    "        x_p1, y_p1 = p1\n",
    "        x_p2, y_p2 = p2\n",
    "        # numpy.inv with determinat 0, we use numpy.pinv to leverages SVD to approximate initial matrix\n",
    "        V = np.cov(np.array([[x_p1, y_p1, 1], [x_p2, y_p2, 1]]).T)\n",
    "        IV = np.linalg.pinv(V)\n",
    "        dst = distance.mahalanobis([x_p1, y_p1, 1], [x_p2, y_p2, 1], IV)\n",
    "    else:\n",
    "        print(\"ERRO: Distance metric not found: \", distance_metric)\n",
    "    return dst\n",
    "\n",
    "def onion_peeling_outtlier_detection(S, k, distance_metric='euclidean'):\n",
    "    L = []\n",
    "    S_ = S[:] # make copy points\n",
    "    mean = np.mean(S, axis=0) # to take the mean of each col\n",
    "    while True:\n",
    "        # Run Convex-Hull algorithm\n",
    "        hull = giftWrapping(S_)\n",
    "        \n",
    "        # check the size of points\n",
    "        if len(S_)<k:\n",
    "            print('Size of points must be greater than outliers.')\n",
    "            return L, hull\n",
    "        \n",
    "        # Start removing points one at a time\n",
    "        print('Finding points...')\n",
    "        dst = []\n",
    "        # Calculate distance with requested distance metric\n",
    "        for pt in hull:\n",
    "            dst.append(getDistance(pt, mean, distance_metric))\n",
    "        # Find the point with largest distance to all the points in the data\n",
    "        idx_pt = np.argmax(dst)\n",
    "        idx_ = S_.index(hull[idx_pt])\n",
    "        # We remove the furthest point found in Hull\n",
    "        remove = list_splice(S_, idx_, 1)\n",
    "        # Store the point and the corresponding index in the memory.\n",
    "        L.append(remove[0])\n",
    "        if len(L)==k:\n",
    "            return L, giftWrapping(S_)\n",
    "        # Remove the current hull.\n",
    "        hull = None"
   ]
  },
  {
   "cell_type": "code",
   "execution_count": 57,
   "metadata": {},
   "outputs": [
    {
     "name": "stdout",
     "output_type": "stream",
     "text": [
      "Termino hull..\n",
      "Finding points...\n",
      "Termino hull..\n",
      "Finding points...\n",
      "Termino hull..\n",
      "Finding points...\n",
      "Termino hull..\n",
      "Finding points...\n",
      "Termino hull..\n",
      "Finding points...\n",
      "Termino hull..\n",
      "Finding points...\n",
      "Termino hull..\n",
      "Finding points...\n",
      "Termino hull..\n",
      "Finding points...\n",
      "Termino hull..\n",
      "Finding points...\n",
      "Termino hull..\n",
      "Finding points...\n",
      "Termino hull..\n",
      "[(0.5737089363593981, 3.094481548077701), (-2.859687985885645, 0.03740545935167208), (2.7550032972015845, 0.35921196283852047), (2.602813278409246, 0.41139831254769854), (2.519898365204564, -0.7899115362710363), (-1.9832778283639318, 0.882776947060921), (2.010792808346442, -1.387554611242791), (1.6795509743129613, -1.660613176262325), (-1.5090823541061125, -1.5620812393396624), (-1.7473337953315786, 0.9568129316981235)]\n"
     ]
    }
   ],
   "source": [
    "n = 100\n",
    "k = 10\n",
    "points = makePoints(n)\n",
    "#res = giftWrapping(points)\n",
    "#print(len(res))\n",
    "outliers, hull_res = onion_peeling_outtlier_detection(points, k, distance_metric='euclidean')\n",
    "print(outliers)"
   ]
  },
  {
   "cell_type": "markdown",
   "metadata": {},
   "source": [
    "## Plot using SKGEOM"
   ]
  },
  {
   "cell_type": "code",
   "execution_count": 58,
   "metadata": {},
   "outputs": [
    {
     "data": {
      "image/png": "[encoded data removed]",
      "text/plain": [
       "<Figure size 432x288 with 1 Axes>"
      ]
     },
     "metadata": {
      "needs_background": "light"
     },
     "output_type": "display_data"
    }
   ],
   "source": [
    "# plot todos los puntos que estaban previamente ordenados\n",
    "# y resaltamos de color rojo el\n",
    "points_sg = []\n",
    "for i in range(n):\n",
    "    x, y = points[i]\n",
    "    points_sg.append(sg.Point2(x, y))\n",
    "    \n",
    "#draw(toPoint2(leftMost), color='red') # Draw only the leftMost point\n",
    "\n",
    "#draw(sg.Segment2(toPoint2(currentVertex),toPoint2(nextVertex)))\n",
    "#draw(sg.Segment2(toPoint2(currentVertex),toPoint2(checkingPoint)), color='green')\n",
    "#draw(toPoint2(currentVertex), color='orange') # Draw only the currentVertex point\n",
    "\n",
    "#res = [(-1.7110537607276717, 0.231802959660187), (-0.6132002869132012, 1.5678821766222575), (-0.6132002869132012, 1.5678821766222575), (1.3736884997604164, 1.1785562058590144), (1.6109919764383442, -1.383956868577714), (1.6109919764383442, -1.383956868577714)]\n",
    "#hull_poly = sg.Polygon(res)\n",
    "#draw(hull_poly)\n",
    "for i in range(len(hull_res)-1):\n",
    "    draw(sg.Segment2(toPoint2(hull_res[i]),toPoint2(hull_res[i+1])))\n",
    "draw(sg.Segment2(toPoint2(hull_res[-1]),toPoint2(hull_res[0])))\n",
    "    \n",
    "draw(points_sg, color='blue') # draw all points\n",
    "\n",
    "points_outliers = []\n",
    "for i in range(len(outliers)):\n",
    "    x, y = outliers[i]\n",
    "    points_outliers.append(sg.Point2(x, y))\n",
    "draw(points_outliers, color='red')"
   ]
  },
  {
   "cell_type": "code",
   "execution_count": 174,
   "metadata": {},
   "outputs": [],
   "source": [
    "# https://gist.github.com/WetHat/d69ce0e94e337538e5b4c848501522aa"
   ]
  },
  {
   "cell_type": "code",
   "execution_count": null,
   "metadata": {},
   "outputs": [],
   "source": []
  }
 ],
 "metadata": {
  "kernelspec": {
   "display_name": "Python 3",
   "language": "python",
   "name": "python3"
  },
  "language_info": {
   "codemirror_mode": {
    "name": "ipython",
    "version": 3
   },
   "file_extension": ".py",
   "mimetype": "text/x-python",
   "name": "python",
   "nbconvert_exporter": "python",
   "pygments_lexer": "ipython3",
   "version": "3.7.8"
  }
 },
 "nbformat": 4,
 "nbformat_minor": 4
}
